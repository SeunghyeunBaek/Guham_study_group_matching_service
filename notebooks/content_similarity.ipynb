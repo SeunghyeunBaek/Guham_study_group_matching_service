{
 "cells": [
  {
   "cell_type": "markdown",
   "metadata": {
    "toc": true
   },
   "source": [
    "<h1>Table of Contents<span class=\"tocSkip\"></span></h1>\n",
    "<div class=\"toc\"><ul class=\"toc-item\"><li><span><a href=\"#문서간-유사도-계산\" data-toc-modified-id=\"문서간-유사도-계산-1\"><span class=\"toc-item-num\">1&nbsp;&nbsp;</span>문서간 유사도 계산</a></span></li></ul></div>"
   ]
  },
  {
   "cell_type": "markdown",
   "metadata": {},
   "source": [
    "## 문서간 유사도 계산\n",
    "1) 전처리: 명사 추출  \n",
    "2) 벡터화: tfidf  \n",
    "3) 유사도 계산: 코사인 유사도  "
   ]
  },
  {
   "cell_type": "code",
   "execution_count": 6,
   "metadata": {
    "ExecuteTime": {
     "end_time": "2019-06-22T09:50:46.670135Z",
     "start_time": "2019-06-22T09:50:46.259771Z"
    }
   },
   "outputs": [],
   "source": [
    "from konlpy.tag import Okt  # 명사 추출\n",
    "from sklearn.feature_extraction.text import TfidfVectorizer  # 벡터화\n",
    "from sklearn.metrics.pairwise import cosine_similarity  # 코사인 유사도\n",
    "import pandas as pd"
   ]
  },
  {
   "cell_type": "code",
   "execution_count": 8,
   "metadata": {
    "ExecuteTime": {
     "end_time": "2019-06-22T09:50:53.955908Z",
     "start_time": "2019-06-22T09:50:53.755828Z"
    }
   },
   "outputs": [],
   "source": [
    "# laod data\n",
    "okky = pd.read_csv('okky.csv', encoding='utf-8-sig')"
   ]
  },
  {
   "cell_type": "code",
   "execution_count": 17,
   "metadata": {
    "ExecuteTime": {
     "end_time": "2019-06-22T09:53:10.355695Z",
     "start_time": "2019-06-22T09:53:10.349640Z"
    }
   },
   "outputs": [],
   "source": [
    "# 전처리\n",
    "okky['title'] = okky['title'].apply(lambda title: title.strip())\n",
    "okky['content'] = okky['content'].apply(lambda content: content.strip())\n",
    "okky['tags'] = okky['content'].apply(lambda tag: tag.strip())"
   ]
  },
  {
   "cell_type": "code",
   "execution_count": 20,
   "metadata": {
    "ExecuteTime": {
     "end_time": "2019-06-22T09:54:33.993055Z",
     "start_time": "2019-06-22T09:54:26.108334Z"
    }
   },
   "outputs": [],
   "source": [
    "# 명사 추출\n",
    "okt = Okt()\n",
    "content_token = okky['content'].apply(lambda content: okt.nouns(content))"
   ]
  },
  {
   "cell_type": "code",
   "execution_count": 23,
   "metadata": {
    "ExecuteTime": {
     "end_time": "2019-06-22T09:56:19.485079Z",
     "start_time": "2019-06-22T09:56:19.480656Z"
    }
   },
   "outputs": [],
   "source": [
    "content_token_str = content_token.apply(lambda token: ','.join(token))"
   ]
  },
  {
   "cell_type": "code",
   "execution_count": 35,
   "metadata": {
    "ExecuteTime": {
     "end_time": "2019-06-22T09:59:19.584904Z",
     "start_time": "2019-06-22T09:59:19.561627Z"
    }
   },
   "outputs": [],
   "source": [
    "# tfidf 벡터화\n",
    "tfidf_obj = TfidfVectorizer()\n",
    "tfidf_mat = tfidf_obj.fit_transform(content_token_str)"
   ]
  },
  {
   "cell_type": "code",
   "execution_count": 44,
   "metadata": {
    "ExecuteTime": {
     "end_time": "2019-06-22T10:02:15.648490Z",
     "start_time": "2019-06-22T10:02:15.643418Z"
    }
   },
   "outputs": [],
   "source": [
    "# 각각 문서에 대해 유사도 계산\n",
    "sim_mat = cosine_similarity(tfidf_mat)"
   ]
  },
  {
   "cell_type": "code",
   "execution_count": 77,
   "metadata": {
    "ExecuteTime": {
     "end_time": "2019-06-22T10:08:50.629545Z",
     "start_time": "2019-06-22T10:08:50.604650Z"
    }
   },
   "outputs": [
    {
     "name": "stdout",
     "output_type": "stream",
     "text": [
      "[OKKY세미나] MS Imagine Cup 국가대표의 스타트업 도전기 - 창업 실패부터 현재 커리어를 만들기까지\n",
      "----------\n",
      "OKKY 회원 여러분 안녕하세요!6월 OKKY 세미나에 모실 발표자님은, 이미 아는 분들은 알고 계실‘늦깎이 개발자 실전 프로젝트로 성장하다 (링크)’‘5년차 안드로이드 개발자의 첫 이직 이야기 (링크)’ 의 주인공 이승민님입니다~ :)기계공학에서 컴공으로 전과3개월 간 숙식하며 준비한 Microsoft Imagine Cup에 한국 대표로 진출창업 실패 후 또다시 스타트업에 도전하여 EXIT리멤버(드라마앤컴퍼니)를 거쳐 뱅크샐러드(레이니스트)에 이르기까지“도전”이라는 단어가 정말 잘 어울리는 분이 아닐 수 없는데요~이번 OKKY 세미나에서는 창업 실패부터 현재 커리어를 만들기까지의 FULL STORY를 아낌없이 나누어주신다고 합니다!또한 발표 후에는 추가 패널 두 분 및 참석자분들과 함께 FREE TALKING을 통해 속시원한 질의응답 시간도 가질 예정이오니, 많은 참여 부탁드립니다~ :D참가 대상학생/취준생/신입/주니어 등 개발자 커리어에 관심 있으신 모든 개발자분들　발표자 및 프로그램 소개　이승민2011년부터 안드로이드 개발을 시작하여, 현재는 자산관리 서비스 ‘뱅크샐러드’의 6년차 안드로이드 개발자로 일하고 있습니다.개발 외에도 협업, 사업 등 가치를 만들어가는 일에 관심이 많습니다. 개발은 가치를 위한 수단 중 하나라고 생각합니다.개발만 잘하는 사람보다는 인생을 즐기고, 세상을 아는 사람이 되고 싶습니다. 그래서 사람 만나는 것을 좋아하며 여행, 페스티벌, 축구, 춤, 게임, 애니메이션 등 다양한 취미에 도전합니다.하고 있는 개발 관련 활동 : GDE Android Korea, Droid Nights Organizer 등 지식 공유 및 커뮤니티 활동을 활발히 하고 있습니다.1부 발표 <MS Imagine Cup 국가대표의 스타트업 도전기 - 창업 실패부터 현재 커리어를 만들기까지 (50’)>창업 실패에서 시작하여 현재 뱅크샐러드까지, 어떻게 성장하며 커리어를 만들었는지 소개합니다. 뱅크샐러드로 오면서 느끼고 배웠던 이직에 대한 생각도 나눕니다.2부 FREE TALKING (40')이승민 : 뱅크샐러드. 6년차 안드로이드 개발자노상범 : 개발자 커뮤니티 OKKY 대표 / 개발자 전문 서치펌 eBrain 대표이경일 : 네이버 메인플랫폼 개발랩, 카카오 커머스플랫폼을 거쳐 현재 네이버 비즈서비스 개발 담당　일시 및 장소　일시 : 2019년 6월 13일 (목) PM 8:00 - 9:40장소 : 마루180 - 지하1층 이벤트홀 (지도)서울시 강남구 역삼로 180 (역삼동, 790-6)(역삼역 2번 출구에서 약 700m. 지하 1층)주차는 지원되지 않습니다. 대중교통 이용 부탁드립니다.　등록 방법　참가 신청 설문지 작성 후, 아래 계좌에 참가비를 입금해주세요.참가비 : 20,000원 (입금 선착순 50명)간단한 다과가 제공됩니다.계좌 : 카카오뱅크 3333-06-5259540 / 예금주 : 조혜현등록 확인설문 작성 내용 및 입금 기록을 확인하여 매주 금요일에 참가 확정 안내 메일을 보내드립니다.설문지에 기록한 이름과 예금주가 다를 경우 hhjo@okky.kr 로 따로 알려주세요.등록 취소 신청 시점에 따른 환불 안내 (OKKY 세미나 공통)세미나 3일 전 : 등록 결제 금액의 100% 환불세미나 2일 전 : 세미나 등록 결제 금액의 50% 환불세미나 1일 전 - 세미나 당일 : 환불 불가문의 : hhjo@okky.kr참가 신청\n"
     ]
    }
   ],
   "source": [
    "query_doc_idx = 0\n",
    "print(okky.iloc[query_doc_idx]['title'])\n",
    "print('-'*10)\n",
    "print(okky.iloc[query_doc_idx]['content'])"
   ]
  },
  {
   "cell_type": "code",
   "execution_count": 78,
   "metadata": {
    "ExecuteTime": {
     "end_time": "2019-06-22T10:08:56.559864Z",
     "start_time": "2019-06-22T10:08:56.549824Z"
    }
   },
   "outputs": [
    {
     "data": {
      "text/plain": [
       "0      [OKKY세미나] MS Imagine Cup 국가대표의 스타트업 도전기 - 창업 실...\n",
       "92     [OKKY세미나] MS Imagine Cup 국가대표의 스타트업 도전기 - 창업 실...\n",
       "69     [OKKY세미나] MS Imagine Cup 국가대표의 스타트업 도전기 - 창업 실...\n",
       "46     [OKKY세미나] MS Imagine Cup 국가대표의 스타트업 도전기 - 창업 실...\n",
       "115    [OKKY세미나] MS Imagine Cup 국가대표의 스타트업 도전기 - 창업 실...\n",
       "23     [OKKY세미나] MS Imagine Cup 국가대표의 스타트업 도전기 - 창업 실...\n",
       "6      [서울/강남] 안드로이드 SNS+ECommerce 앱 스터디세미나(현업19년차개발자...\n",
       "75                            대전에서 함께 창업하실 개발자분 혹시 계실까요?\n",
       "83                                           앱개발 사업화 스터디\n",
       "34     [서울/강남]아이폰 SNS+ECommerce 앱 스터디세미나(19년차개발자가 제작시...\n",
       "63                      창업에 뜻이 있고, 준비중인 역량있는 개발자분을 모십니다.\n",
       "15     부천,철산역 에서 리액트네이티브 & 리액트 스터디 모집합니다.(포트폴리오 프로젝트 개발)\n",
       "67        ◆ (재능기부) 자바 프론트엔드 개발 실전 스터디 모임 평일반 (6월17일부터) ◆\n",
       "126           가디역에서 리액트네이티브,파이어베이스 스터디 하실분 모집합니다.(현재 4명)\n",
       "82        ◆ (재능기부) 자바 프론트엔드 개발 실전 스터디 모임 평일반 (6월17일부터) ◆\n",
       "111                   IT 연합 동아리 NEXTERS(넥스터즈) 15기 개발자 모집\n",
       "37                      [마감] Node.js 스터디 모임 모집합니다. (풀스택)\n",
       "4                          [강남] iOS Swift 스터디(입문) - 인원충원\n",
       "18                       대학생 연합 기업형 IT 동아리 YAPP에서 15기 모집\n",
       "76     [성신여대역 / 토요일] 함께 토이프로젝트 진행하실 프론트엔드 주니어 개발자 모집합니다.\n",
       "56     안드로이드 프로젝트 할 사람 구합니다.(대학생, 신입취업 준비생 수준의 포트폴리오)...\n",
       "128                [노원역] 자바 기반 주니어 개발자 스터디원 모집합니다. (토요일)\n",
       "42     안드로이드 프로젝트 할 사람 구합니다.(대학생, 신입취업 준비생 수준의 포트폴리오)...\n",
       "10     안드로이드 프로젝트 할 사람 구합니다.(대학생, 신입취업 준비생 수준의 포트폴리오)...\n",
       "127                  [마감] 간단한 사이드프로젝트 만들어보기 스터디원을 모셔봅니다.\n",
       "9                     [모집 중] 안드로이드 중급 기술스택 향상을 위한 Meetup\n",
       "39                    [모집 중] 안드로이드 중급 기술스택 향상을 위한 Meetup\n",
       "66            vuejs와 nodejs로 미니 실시간 주식현황 시스템 구현 세미나(일요일)\n",
       "104            [6개월간의 스터디]  VR/AR/MR 융합콘텐츠 개발 실무 프로젝트 교육\n",
       "38                                          iOS 스터디 없나요?\n",
       "                             ...                        \n",
       "29                            [목포] 스프링 스터디 구합니다(토비의 스프링)\n",
       "55                                       stm32 스터디 모집합니다\n",
       "31                                      빅데이터 분석 스터디 있나요?\n",
       "119                         [분당][마감] 알고리즘 스터디 하실분들 구합니다.\n",
       "20               가산디지털단지역 카페에서 각자 IT공부 하실 분! (퇴근후 또는 주말)\n",
       "78      [모두의댄스] 대학생 직장인 몸치탈출 스트릿댄스 방송댄스 춤 배우기 동호회(항시모집!)\n",
       "16                                    수원 파이썬 스터디 모집 (마감)\n",
       "131                      [강남역] 월/목/토 퇴근 후 정기 각코모임 모집합니다.\n",
       "129                                  R 스터디 초급 하실분 모집합니다.\n",
       "11                                 [대전] UX/UI 디자인 스터디 모집\n",
       "100                         java 에서 fcm 다중 전송을 구현하고있습니다.\n",
       "103                                   블록체인 입문 스터디 모집합니다.\n",
       "79                              [온라인] 웹프로젝트 진행하실분 모집합니다.\n",
       "130                        [모각코] 서울숲 JAVA 토요일 오후 2시 (끌올)\n",
       "124                [부산] 재능 교환 (원하시는 디자인 툴 ⟷ 자바스크립트나 리액트)\n",
       "107                         홍대합정신촌 해외취업 코딩 인터뷰 스터디 구합니다.\n",
       "19                                     Python 스터디 모집합니다.\n",
       "26                                파이썬 스터디 모집하면 하실분 계신가요?\n",
       "98                           (마감)숭실대역 일요일 알고리즘 스터디 모집합니다\n",
       "45                                                 웹제작관련\n",
       "52                                   프로그래머스 사이트에 온라인자바강의\n",
       "59      [초보] Html+ Css & JS 스터디 모집합니다. 모집기간 2019-06-20까지\n",
       "27                                       스프링 스터디 모임있을까요?\n",
       "28          선릉역 ) 토즈 워크센터 를 대여하여 스터디 ( 모여서 각자 스터디 ) 하실분?\n",
       "87                                                일본IT취업\n",
       "41                                    현장실습시켜주실곳있으면연락바랍니다\n",
       "96                IT 초년생들끼리 오픈채팅방에서 사는 얘기 공유하실 분 계신가요 !?\n",
       "133                         [마감] Vue.js,바닐라JS 스터디 모집합니다.\n",
       "101                                  [마감] 바닐라 자바스크립트 스터디\n",
       "30                                         파이썬 스터디 없을까요?\n",
       "Name: title, Length: 138, dtype: object"
      ]
     },
     "execution_count": 78,
     "metadata": {},
     "output_type": "execute_result"
    }
   ],
   "source": [
    "# query_doc에 대해 유사도가 높은 순으로 정렬\n",
    "query_doc_idx = 0\n",
    "rank_idx = pd.Series(sim_mat[0]).sort_values(ascending=False).index.tolist()\n",
    "okky.iloc[rank_idx]['title']"
   ]
  },
  {
   "cell_type": "code",
   "execution_count": 5,
   "metadata": {
    "ExecuteTime": {
     "end_time": "2019-06-22T06:36:35.466147Z",
     "start_time": "2019-06-22T06:36:35.447074Z"
    }
   },
   "outputs": [
    {
     "name": "stdout",
     "output_type": "stream",
     "text": [
      "cosine sim 1-2: 0.06883873333454599\n",
      "cosine sim 2-3: 0.10678834752918145\n",
      "cosine sim 1-3: 0.26804213865902704\n"
     ]
    }
   ],
   "source": [
    "# # 1,3 의 유사도가 가장 높다.\n",
    "# # 유사도 계산 1-2\n",
    "# cos_sim_1_2= cosine_similarity(tfidf_mat[0].reshape(1,-1), tfidf_mat[1].reshape(1,-1))[0][0]\n",
    "# print(f'cosine sim 1-2: {cos_sim_1_2}')\n",
    "\n",
    "# # 유사도 2-3\n",
    "# cos_sim_2_3 = cosine_similarity(tfidf_mat[1].reshape(1,-1), tfidf_mat[2].reshape(1,-1))[0][0]\n",
    "# print(f'cosine sim 2-3: {cos_sim_2_3}')\n",
    "\n",
    "# # 유사도 1-3\n",
    "# cos_sim_1_3 = cosine_similarity(tfidf_mat[0].reshape(1,-1), tfidf_mat[2].reshape(1,-1))[0][0]\n",
    "# print(f'cosine sim 1-3: {cos_sim_1_3}')"
   ]
  },
  {
   "cell_type": "code",
   "execution_count": null,
   "metadata": {},
   "outputs": [],
   "source": []
  }
 ],
 "metadata": {
  "kernelspec": {
   "display_name": "Python 3",
   "language": "python",
   "name": "python3"
  },
  "language_info": {
   "codemirror_mode": {
    "name": "ipython",
    "version": 3
   },
   "file_extension": ".py",
   "mimetype": "text/x-python",
   "name": "python",
   "nbconvert_exporter": "python",
   "pygments_lexer": "ipython3",
   "version": "3.7.0"
  },
  "toc": {
   "base_numbering": 1,
   "nav_menu": {},
   "number_sections": true,
   "sideBar": true,
   "skip_h1_title": true,
   "title_cell": "Table of Contents",
   "title_sidebar": "Contents",
   "toc_cell": true,
   "toc_position": {
    "height": "calc(100% - 180px)",
    "left": "10px",
    "top": "150px",
    "width": "165px"
   },
   "toc_section_display": true,
   "toc_window_display": true
  }
 },
 "nbformat": 4,
 "nbformat_minor": 2
}
