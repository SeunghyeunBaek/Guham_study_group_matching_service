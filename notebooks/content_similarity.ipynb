{
 "cells": [
  {
   "cell_type": "markdown",
   "metadata": {
    "toc": true
   },
   "source": [
    "<h1>Table of Contents<span class=\"tocSkip\"></span></h1>\n",
    "<div class=\"toc\"><ul class=\"toc-item\"><li><span><a href=\"#문서간-유사도-계산\" data-toc-modified-id=\"문서간-유사도-계산-1\"><span class=\"toc-item-num\">1&nbsp;&nbsp;</span>문서간 유사도 계산</a></span></li></ul></div>"
   ]
  },
  {
   "cell_type": "markdown",
   "metadata": {},
   "source": [
    "## 문서간 유사도 계산\n",
    "1) 전처리: 명사 추출  \n",
    "2) 벡터화: tfidf  \n",
    "3) 유사도 계산: 코사인 유사도  "
   ]
  },
  {
   "cell_type": "code",
   "execution_count": 93,
   "metadata": {
    "ExecuteTime": {
     "end_time": "2019-06-21T07:04:12.525495Z",
     "start_time": "2019-06-21T07:04:12.522009Z"
    }
   },
   "outputs": [],
   "source": [
    "from konlpy.tag import Okt  # 명사 추출\n",
    "from sklearn.feature_extraction.text import TfidfVectorizer  # 벡터화\n",
    "from sklearn.metrics.pairwise import cosine_similarity  # 코사인 유사도"
   ]
  },
  {
   "cell_type": "code",
   "execution_count": 100,
   "metadata": {
    "ExecuteTime": {
     "end_time": "2019-06-21T07:05:37.012569Z",
     "start_time": "2019-06-21T07:05:37.007559Z"
    }
   },
   "outputs": [],
   "source": [
    "# 1,3: 데이터 분석 스터디\n",
    "# 2: 기타\n",
    "text_1 = '''\n",
    "장소 : 양재 \n",
    "\n",
    "시간 : 협의\n",
    "\n",
    "준비물 : 노트북, 열정?\n",
    "\n",
    "안녕하세요. 파이썬을 활용한 데이터분석에 관심이 생겨서 스터디를 개설하고자 합니다.\n",
    "\n",
    "pandas, numpy와 같은 라이브러리 사용 부터 케글 문제풀이까지 하는걸로 생각하고 있구요.\n",
    "\n",
    "데이터 분석 한번도 안해보신분들이면 적당할 것 같아요\n",
    "\n",
    "파이썬만 쓸줄아는 학부생 수준이라 부담없이 연락주세요.\n",
    "\n",
    "데이터분석 스터디\n",
    "'''\n",
    "text_2 = '''\n",
    "스터디과목 : html+css & JavaScript\n",
    "장소 : 인천시 부평 및 가정동 부근에 있는 토즈(Toz 스터디카페)\n",
    "일시 : 매주 1회 (일요일)\n",
    "진행방식 : 한가지 교제를 정해서 해당 교제를 정해진 진도만큼 학습 후 만나서 라이브 코딩 해보는 방식으로 진행합니다.(간단한 라이브코딩을 리더가 간단하게 시연하면서 설명을 해줄것입니다.)\n",
    "참가비 : 아직미정 스터디 진행을 위하여 필요한 비용(장소예약 등 필요비)을 먼저 지불한 이후 참여 가능합니다. \n",
    "스터디장점 : 백엔드 개발 가능하신 현업 개발자가 함께하여 생초보 스터디 보다는 배울 수 있는 기회가 많습니다. \n",
    "예상교제 : 모던 웹을 위한 HTML5+CSS3 바이블 - 3판 윤인성 (지은이) 한빛미디어\n",
    "한주간 예상 진도 ; 약 50~100p 가량을 진행 하면서 함께 학습해 보아요. \n",
    "참여문의 카카오톡id : hihelper 로 문의 주세요.\n",
    "'''\n",
    "\n",
    "text_3 =  '''\n",
    "데이터 분석 스터디 팀원 모집합니다.\n",
    "현재 저 포함 3명의 인원이 모여 있습니다.\n",
    "파이썬 코드를 이용하여 데이터 분석도 해보고 머신러닝을 이용한 모델 작성 및 프로그램 만들어보는 것을 목적으로 하고 있습니다\n",
    "장소는 신촌 근처에서 진행하고 인원은 2 ~ 3분만 더 모집하려고 합니다.\n",
    "자세한 문의는 \n",
    "https://open.kakao.com/o/scuLPsU \n",
    "이곳으로 부탁드립니다\n",
    "\n",
    "\n",
    "\n",
    "감사합니다\n",
    "'''"
   ]
  },
  {
   "cell_type": "code",
   "execution_count": 101,
   "metadata": {
    "ExecuteTime": {
     "end_time": "2019-06-21T07:05:37.664476Z",
     "start_time": "2019-06-21T07:05:37.607932Z"
    }
   },
   "outputs": [],
   "source": [
    "# 명사 추출\n",
    "okt = Okt()\n",
    "token_1 = okt.nouns(text_1)\n",
    "token_2 = okt.nouns(text_2)\n",
    "token_3 = okt.nouns(text_3)"
   ]
  },
  {
   "cell_type": "code",
   "execution_count": 102,
   "metadata": {
    "ExecuteTime": {
     "end_time": "2019-06-21T07:05:38.009196Z",
     "start_time": "2019-06-21T07:05:38.000765Z"
    }
   },
   "outputs": [],
   "source": [
    "# tfidf 벡터화\n",
    "corpus = [','.join(token_1), ','.join(token_2), ','.join(token_3)]\n",
    "tfidf_obj = TfidfVectorizer()\n",
    "tfidf_mat = tfidf_obj.fit_transform(corpus)"
   ]
  },
  {
   "cell_type": "code",
   "execution_count": 103,
   "metadata": {
    "ExecuteTime": {
     "end_time": "2019-06-21T07:05:38.359173Z",
     "start_time": "2019-06-21T07:05:38.347087Z"
    }
   },
   "outputs": [
    {
     "name": "stdout",
     "output_type": "stream",
     "text": [
      "cosine sim 1-2: 0.06883873333454599\n",
      "cosine sim 2-3: 0.10678834752918145\n",
      "cosine sim 1-3: 0.26804213865902704\n"
     ]
    }
   ],
   "source": [
    "# 1,3 의 유사도가 가장 높다.\n",
    "# 유사도 계산 1-2\n",
    "cos_sim_1_2= cosine_similarity(tfidf_mat[0].reshape(1,-1), tfidf_mat[1].reshape(1,-1))[0][0]\n",
    "print(f'cosine sim 1-2: {cos_sim_1_2}')\n",
    "\n",
    "# 유사도 2-3\n",
    "cos_sim_2_3 = cosine_similarity(tfidf_mat[1].reshape(1,-1), tfidf_mat[2].reshape(1,-1))[0][0]\n",
    "print(f'cosine sim 2-3: {cos_sim_2_3}')\n",
    "\n",
    "# 유사도 1-3\n",
    "cos_sim_1_3 = cosine_similarity(tfidf_mat[0].reshape(1,-1), tfidf_mat[2].reshape(1,-1))[0][0]\n",
    "print(f'cosine sim 1-3: {cos_sim_1_3}')"
   ]
  },
  {
   "cell_type": "code",
   "execution_count": null,
   "metadata": {},
   "outputs": [],
   "source": []
  }
 ],
 "metadata": {
  "kernelspec": {
   "display_name": "Python 3",
   "language": "python",
   "name": "python3"
  },
  "language_info": {
   "codemirror_mode": {
    "name": "ipython",
    "version": 3
   },
   "file_extension": ".py",
   "mimetype": "text/x-python",
   "name": "python",
   "nbconvert_exporter": "python",
   "pygments_lexer": "ipython3",
   "version": "3.7.0"
  },
  "toc": {
   "base_numbering": 1,
   "nav_menu": {},
   "number_sections": true,
   "sideBar": true,
   "skip_h1_title": true,
   "title_cell": "Table of Contents",
   "title_sidebar": "Contents",
   "toc_cell": true,
   "toc_position": {},
   "toc_section_display": true,
   "toc_window_display": true
  }
 },
 "nbformat": 4,
 "nbformat_minor": 2
}
