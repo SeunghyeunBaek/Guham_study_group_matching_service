{
 "cells": [
  {
   "cell_type": "markdown",
   "metadata": {
    "ExecuteTime": {
     "end_time": "2019-06-25T05:33:12.839203Z",
     "start_time": "2019-06-25T05:33:12.835203Z"
    }
   },
   "source": [
    "# 패키지 설정"
   ]
  },
  {
   "cell_type": "code",
   "execution_count": 100,
   "metadata": {
    "ExecuteTime": {
     "end_time": "2019-06-25T06:09:22.669203Z",
     "start_time": "2019-06-25T06:09:22.664203Z"
    }
   },
   "outputs": [],
   "source": [
    "import pandas as pd\n",
    "import random\n",
    "import re"
   ]
  },
  {
   "cell_type": "markdown",
   "metadata": {},
   "source": [
    "# 파일 불러오기"
   ]
  },
  {
   "cell_type": "code",
   "execution_count": 101,
   "metadata": {
    "ExecuteTime": {
     "end_time": "2019-06-25T06:09:24.136203Z",
     "start_time": "2019-06-25T06:09:24.119203Z"
    }
   },
   "outputs": [],
   "source": [
    "study_room = pd.read_excel(r'tag_okky.xlsx')"
   ]
  },
  {
   "cell_type": "markdown",
   "metadata": {},
   "source": [
    "# 띄워쓰기 제거"
   ]
  },
  {
   "cell_type": "code",
   "execution_count": 102,
   "metadata": {
    "ExecuteTime": {
     "end_time": "2019-06-25T06:09:26.022203Z",
     "start_time": "2019-06-25T06:09:26.017203Z"
    }
   },
   "outputs": [],
   "source": [
    "study_room['title'] = study_room['title'].apply(lambda x: re.sub('\\\\n','', str(x)))\n",
    "study_room['title'] = study_room['title'].apply(lambda x: re.sub('  +','', str(x)))\n",
    "study_room['content'] = study_room['content'].apply(lambda x: re.sub('\\\\n','', str(x)))"
   ]
  },
  {
   "cell_type": "code",
   "execution_count": 103,
   "metadata": {
    "ExecuteTime": {
     "end_time": "2019-06-25T06:09:27.234203Z",
     "start_time": "2019-06-25T06:09:27.174203Z"
    },
    "scrolled": true
   },
   "outputs": [],
   "source": [
    "study_room.to_excel('okky_study_room.xlsx', sheet_name='Sheet1')"
   ]
  },
  {
   "cell_type": "markdown",
   "metadata": {},
   "source": [
    "# 랜덤으로 카테고리 설정"
   ]
  },
  {
   "cell_type": "code",
   "execution_count": 104,
   "metadata": {
    "ExecuteTime": {
     "end_time": "2019-06-25T06:09:28.923203Z",
     "start_time": "2019-06-25T06:09:28.908203Z"
    }
   },
   "outputs": [],
   "source": [
    "# get category\n",
    "categories = ['r','python','c','java']\n",
    "members = [2,3,4,5,6,7,8,9,10]\n",
    "places = ['강남역', '역삼역', '교대역']\n",
    "days = ['주1회', '주2회', '주3회','협의']\n",
    "times = ['1hour','2hour','3hour']\n",
    "\n",
    "category = []\n",
    "member = []\n",
    "place = []\n",
    "day = []\n",
    "time = []\n",
    "\n",
    "for i in range(study_room.shape[0]):\n",
    "    category.append(random.choice(categories))\n",
    "    member.append(random.choice(members))\n",
    "    place.append(random.choice(places))\n",
    "    day.append(random.choice(days))\n",
    "    time.append(random.choice(times))\n",
    "    \n",
    "study_room['category'] = category\n",
    "study_room['member'] = member\n",
    "study_room['place'] = place\n",
    "study_room['day'] = day\n",
    "study_room['time'] = time\n",
    "study_room['user'] = 1"
   ]
  },
  {
   "cell_type": "code",
   "execution_count": 105,
   "metadata": {
    "ExecuteTime": {
     "end_time": "2019-06-25T06:09:31.449203Z",
     "start_time": "2019-06-25T06:09:31.374203Z"
    }
   },
   "outputs": [],
   "source": [
    "study_room.to_excel('okky_study_room.xlsx', sheet_name='Sheet1')"
   ]
  }
 ],
 "metadata": {
  "kernelspec": {
   "display_name": "Python 3",
   "language": "python",
   "name": "python3"
  },
  "language_info": {
   "codemirror_mode": {
    "name": "ipython",
    "version": 3
   },
   "file_extension": ".py",
   "mimetype": "text/x-python",
   "name": "python",
   "nbconvert_exporter": "python",
   "pygments_lexer": "ipython3",
   "version": "3.6.5"
  },
  "toc": {
   "base_numbering": 1,
   "nav_menu": {},
   "number_sections": true,
   "sideBar": true,
   "skip_h1_title": false,
   "title_cell": "Table of Contents",
   "title_sidebar": "Contents",
   "toc_cell": false,
   "toc_position": {
    "height": "calc(100% - 180px)",
    "left": "10px",
    "top": "150px",
    "width": "216px"
   },
   "toc_section_display": true,
   "toc_window_display": true
  },
  "varInspector": {
   "cols": {
    "lenName": 16,
    "lenType": 16,
    "lenVar": 40
   },
   "kernels_config": {
    "python": {
     "delete_cmd_postfix": "",
     "delete_cmd_prefix": "del ",
     "library": "var_list.py",
     "varRefreshCmd": "print(var_dic_list())"
    },
    "r": {
     "delete_cmd_postfix": ") ",
     "delete_cmd_prefix": "rm(",
     "library": "var_list.r",
     "varRefreshCmd": "cat(var_dic_list()) "
    }
   },
   "types_to_exclude": [
    "module",
    "function",
    "builtin_function_or_method",
    "instance",
    "_Feature"
   ],
   "window_display": false
  }
 },
 "nbformat": 4,
 "nbformat_minor": 2
}
