{
 "cells": [
  {
   "cell_type": "markdown",
   "metadata": {
    "toc": true
   },
   "source": [
    "<h1>Table of Contents<span class=\"tocSkip\"></span></h1>\n",
    "<div class=\"toc\"><ul class=\"toc-item\"><li><span><a href=\"#크롤링할-사이트\" data-toc-modified-id=\"크롤링할-사이트-1\"><span class=\"toc-item-num\">1&nbsp;&nbsp;</span>크롤링할 사이트</a></span></li><li><span><a href=\"#데이터-스키마\" data-toc-modified-id=\"데이터-스키마-2\"><span class=\"toc-item-num\">2&nbsp;&nbsp;</span>데이터 스키마</a></span></li></ul></div>"
   ]
  },
  {
   "cell_type": "markdown",
   "metadata": {},
   "source": [
    "## 크롤링할 사이트\n",
    "* 네이버 카페: \n",
    "    * [독취사](http://cafe.naver.com/dokchi)\n",
    "        * 스터디>기타: 검색어 '프로그래밍'\n",
    "* 스터디 사이트:\n",
    "    * [스터디하자](http://lets-study.co.kr/): 프로그래밍 카테고리\n",
    "* 커뮤니티:\n",
    "    * [OKKY](https://okky.kr/): \n",
    "        * 커뮤티니> 정기모임/스터디\n",
    "        \n",
    "## 데이터 스키마\n",
    "* id\n",
    "* home: 크롤링한 사이트\n",
    "* title: 제목\n",
    "* content: 본문\n",
    "* hash_tags: 본문 빈출 단어 top 1-5(본문 길이에 따라 생성)"
   ]
  },
  {
   "cell_type": "code",
   "execution_count": 120,
   "metadata": {
    "ExecuteTime": {
     "end_time": "2019-06-21T07:57:15.562573Z",
     "start_time": "2019-06-21T07:57:15.557599Z"
    }
   },
   "outputs": [],
   "source": [
    "# libraries\n",
    "from selenium.webdriver.support.ui import Select\n",
    "from selenium import webdriver\n",
    "import pandas as pd\n",
    "import requests\n",
    "import json\n",
    "import time\n",
    "import bs4\n",
    "import re"
   ]
  },
  {
   "cell_type": "code",
   "execution_count": 116,
   "metadata": {
    "ExecuteTime": {
     "end_time": "2019-06-21T07:48:30.634338Z",
     "start_time": "2019-06-21T07:48:30.630928Z"
    }
   },
   "outputs": [],
   "source": [
    "# urls\n",
    "okky_article_id = 593111\n",
    "okky_urls = f'https://okky.kr/article/{okky_article_id}'\n",
    "lets_study_urls = f'http://lets-study.co.kr/studies?categoryid=4'"
   ]
  },
  {
   "cell_type": "code",
   "execution_count": 117,
   "metadata": {
    "ExecuteTime": {
     "end_time": "2019-06-21T07:48:36.117736Z",
     "start_time": "2019-06-21T07:48:31.448265Z"
    }
   },
   "outputs": [],
   "source": [
    "# selenium\n",
    "driver = webdriver.Chrome('chromedriver')  # start webdriver\n",
    "driver.get(lets_study_urls)"
   ]
  },
  {
   "cell_type": "code",
   "execution_count": 118,
   "metadata": {
    "ExecuteTime": {
     "end_time": "2019-06-21T07:48:42.073270Z",
     "start_time": "2019-06-21T07:48:41.528603Z"
    }
   },
   "outputs": [],
   "source": [
    "# 스터디 포스트 클릭\n",
    "study_post_btn = driver.find_element_by_css_selector('td')\n",
    "study_post_btn.click()"
   ]
  },
  {
   "cell_type": "code",
   "execution_count": 119,
   "metadata": {
    "ExecuteTime": {
     "end_time": "2019-06-21T07:48:44.907401Z",
     "start_time": "2019-06-21T07:48:43.962972Z"
    }
   },
   "outputs": [],
   "source": [
    "# 본문 가져오기\n",
    "current_url = driver.current_url\n",
    "current_res = getRequest(current_url)\n",
    "content = current_res.select('.introduce')[0].text\n",
    "# 뒤로가기\n",
    "driver.back()"
   ]
  },
  {
   "cell_type": "code",
   "execution_count": 68,
   "metadata": {
    "ExecuteTime": {
     "end_time": "2019-06-21T07:09:02.270985Z",
     "start_time": "2019-06-21T07:09:01.932689Z"
    }
   },
   "outputs": [
    {
     "name": "stdout",
     "output_type": "stream",
     "text": [
      "[강남] iOS Swift 스터디(입문) - 인원충원 iOS 같이\r\n",
      "공부하실 분 모집합니다.현재 1회\r\n",
      "진행되었고 멤버는 현재 3명입니다. 1~2명정도\r\n",
      "충원합니다.이\r\n",
      "스터디는 현 개발자 분들껜 너무 쉬울 수 있으니 참고해주세요.\n",
      "교재: Do\r\n",
      "it! 스위프트로\r\n",
      "아이폰 앱 만들기 입문요일: 월\r\n",
      "수 (7월 31일 종료\r\n",
      "예정)시간: 저녁\r\n",
      "7시반~9시반장소: 강남역\r\n",
      "스터디룸인원: 4~5명 (현재 멤버\r\n",
      "3명. 1~2명 충원)준비물: 맥북진행방법: 챕터별로\r\n",
      "발표자가 리드\n",
      "관심있으신\r\n",
      "분들은 아래 폼으로 신청해주세요https://forms.gle/LWD5uU14zkqpynVq8\n",
      "감사합니다. 2019-06-20 10:06:50\n"
     ]
    }
   ],
   "source": [
    "# get_request\n",
    "res = getRequest(okky_urls)\n",
    "title = res.select('.panel-title')[0].text.strip()\n",
    "content = res.select('#content-body>article.content-text')[0].text.strip()\n",
    "date = res.select('.date-created>span')[0].text.strip()\n",
    "print(title,content,date)"
   ]
  },
  {
   "cell_type": "code",
   "execution_count": 65,
   "metadata": {
    "ExecuteTime": {
     "end_time": "2019-06-21T05:17:33.014273Z",
     "start_time": "2019-06-21T05:17:32.829236Z"
    }
   },
   "outputs": [
    {
     "data": {
      "text/plain": [
       "[<a href=\"/article/583610\">\n",
       "                 \n",
       "                 [OKKY세미나] MS Imagine Cup 국가대표의 스타트업 도전기 - 창업 실패부터 현재 커리어를 만들기까지\n",
       "             </a>, <a href=\"/article/534396\">\n",
       "                 \n",
       "                 OKKY 정기모임/스터디 게시판 - 유료 과외 및 수익성 프로젝트 모집 글 금지 안내\n",
       "             </a>, <a href=\"/article/525814\">\n",
       "                 \n",
       "                 OKKY 정기모임/스터디 불법 게시물 공지사항\n",
       "             </a>, <a href=\"/article/593111\">\n",
       "                 \n",
       "                 [강남] iOS Swift 스터디(입문) - 인원충원\n",
       "             </a>, <a href=\"/article/593047\">\n",
       "                 \n",
       "                 [인천]스터디 모집 왕초보 html5+css3,\n",
       "             </a>, <a href=\"/article/592720\">\n",
       "                 \n",
       "                 [서울/강남] 안드로이드 SNS+ECommerce 앱 스터디세미나(현업19년차개발자가 제작시범, 매주 진행)\n",
       "             </a>, <a href=\"/article/592584\">\n",
       "                 \n",
       "                 [서울] 웹개발 코드리뷰 Meetup\n",
       "             </a>, <a href=\"/article/592547\">\n",
       "                 \n",
       "                 [강남] JAVA알고리즘 스터디 모집합니다.[마감]\n",
       "             </a>, <a href=\"/article/592510\">\n",
       "                 \n",
       "                 [모집 중] 안드로이드 중급 기술스택 향상을 위한 Meetup\n",
       "             </a>, <a href=\"/article/592436\">\n",
       "                 \n",
       "                 안드로이드 프로젝트 할 사람 구합니다.(대학생, 신입취업 준비생 수준의 포트폴리오)[안양, 군포, 의왕]\n",
       "             </a>, <a href=\"/article/592172\">\n",
       "                 \n",
       "                 [대전] UX/UI 디자인 스터디 모집\n",
       "             </a>, <a href=\"/article/591803\">\n",
       "                 \n",
       "                 [강남/건대] 자바 기반 디자인패턴 스터디\n",
       "             </a>, <a href=\"/article/591790\">\n",
       "                 \n",
       "                 5주동안 배우는 웹개발 스터디\n",
       "             </a>, <a href=\"/article/591610\">\n",
       "                 \n",
       "                 같이 프론트엔드 준비하실 분\n",
       "             </a>, <a href=\"/article/591591\">\n",
       "                 \n",
       "                 부천,철산역 에서 리액트네이티브 &amp; 리액트 스터디 모집합니다.(포트폴리오 프로젝트 개발)\n",
       "             </a>, <a href=\"/article/591555\">\n",
       "                 \n",
       "                 수원 파이썬 스터디 모집 (수정)\n",
       "             </a>, <a href=\"/article/591497\">\n",
       "                 \n",
       "                 [부산] 일요일 알고리즘 스터디 모집합니다.\n",
       "             </a>, <a href=\"/article/591470\">\n",
       "                 \n",
       "                 대학생 연합 기업형 IT 동아리 YAPP에서 15기 모집\n",
       "             </a>, <a href=\"/article/591439\">\n",
       "                 \n",
       "                 Python 스터디 모집합니다.\n",
       "             </a>, <a href=\"/article/591347\">\n",
       "                 \n",
       "                 가산디지털단지역 카페에서 각자 IT공부 하실 분! (퇴근후 또는 주말)\n",
       "             </a>, <a href=\"/article/591253\">\n",
       "                 \n",
       "                 파이썬/크롤링/매크로 스터디\n",
       "             </a>, <a href=\"/article/591222\">\n",
       "                 \n",
       "                 공릉/태릉 웹/앱 스터디 하실분\n",
       "             </a>, <a href=\"/article/591186\">\n",
       "                 \n",
       "                 파이썬 스터디 모집하면 하실분 계신가요?\n",
       "             </a>]"
      ]
     },
     "execution_count": 65,
     "metadata": {},
     "output_type": "execute_result"
    }
   ],
   "source": [
    "group_idx_url = 'https://okky.kr/articles/gathering'\n",
    "idx_res = getRequest(group_idx_url)\n",
    "idx_res.select('h5>a')"
   ]
  },
  {
   "cell_type": "code",
   "execution_count": 46,
   "metadata": {
    "ExecuteTime": {
     "end_time": "2019-06-21T05:10:06.268546Z",
     "start_time": "2019-06-21T05:10:01.618055Z"
    }
   },
   "outputs": [],
   "source": [
    "# 웹드라이버 가동\n",
    "driver = webdriver.Chrome('chromedriver.exe')\n",
    "driver.get('https://okky.kr/articles/gathering')"
   ]
  },
  {
   "cell_type": "code",
   "execution_count": null,
   "metadata": {},
   "outputs": [],
   "source": [
    "# "
   ]
  },
  {
   "cell_type": "code",
   "execution_count": 8,
   "metadata": {
    "ExecuteTime": {
     "end_time": "2019-06-21T04:34:36.657682Z",
     "start_time": "2019-06-21T04:34:36.652226Z"
    }
   },
   "outputs": [],
   "source": [
    "\n",
    "def get_data(soup):\n",
    "    \n",
    "    title = []\n",
    "    href = []\n",
    "    a = soup.select('#text_today_main_news_801001 a')\n",
    "    \n",
    "    for i in a:\n",
    "        title.append(i.select('strong')[0].text.strip())\n",
    "        href.append(i.attrs['href'])\n",
    "    return list(zip(title,href))\n"
   ]
  },
  {
   "cell_type": "code",
   "execution_count": 9,
   "metadata": {
    "ExecuteTime": {
     "end_time": "2019-06-21T04:34:36.835981Z",
     "start_time": "2019-06-21T04:34:36.832508Z"
    }
   },
   "outputs": [],
   "source": [
    "def getRequest(url):\n",
    "    return bs4.BeautifulSoup(requests.get(url).text,'lxml')"
   ]
  },
  {
   "cell_type": "code",
   "execution_count": null,
   "metadata": {},
   "outputs": [],
   "source": [
    "pd.DataFrame(getData(soup),columns=['제목','url'])"
   ]
  }
 ],
 "metadata": {
  "kernelspec": {
   "display_name": "Python 3",
   "language": "python",
   "name": "python3"
  },
  "language_info": {
   "codemirror_mode": {
    "name": "ipython",
    "version": 3
   },
   "file_extension": ".py",
   "mimetype": "text/x-python",
   "name": "python",
   "nbconvert_exporter": "python",
   "pygments_lexer": "ipython3",
   "version": "3.7.0"
  },
  "toc": {
   "base_numbering": 1,
   "nav_menu": {},
   "number_sections": true,
   "sideBar": true,
   "skip_h1_title": true,
   "title_cell": "Table of Contents",
   "title_sidebar": "Contents",
   "toc_cell": true,
   "toc_position": {
    "height": "calc(100% - 180px)",
    "left": "10px",
    "top": "150px",
    "width": "186.542px"
   },
   "toc_section_display": true,
   "toc_window_display": false
  }
 },
 "nbformat": 4,
 "nbformat_minor": 2
}
