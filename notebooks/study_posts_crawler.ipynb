{
 "cells": [
  {
   "cell_type": "markdown",
   "metadata": {
    "toc": true
   },
   "source": [
    "<h1>Table of Contents<span class=\"tocSkip\"></span></h1>\n",
    "<div class=\"toc\"><ul class=\"toc-item\"><li><span><a href=\"#크롤링할-사이트\" data-toc-modified-id=\"크롤링할-사이트-1\"><span class=\"toc-item-num\">1&nbsp;&nbsp;</span>크롤링할 사이트</a></span></li><li><span><a href=\"#데이터-스키마\" data-toc-modified-id=\"데이터-스키마-2\"><span class=\"toc-item-num\">2&nbsp;&nbsp;</span>데이터 스키마</a></span></li><li><span><a href=\"#Lets_study\" data-toc-modified-id=\"Lets_study-3\"><span class=\"toc-item-num\">3&nbsp;&nbsp;</span>Lets_study</a></span></li><li><span><a href=\"#okky\" data-toc-modified-id=\"okky-4\"><span class=\"toc-item-num\">4&nbsp;&nbsp;</span>okky</a></span></li></ul></div>"
   ]
  },
  {
   "cell_type": "markdown",
   "metadata": {},
   "source": [
    "## 크롤링할 사이트\n",
    "* 네이버 카페: \n",
    "    * [독취사](http://cafe.naver.com/dokchi)\n",
    "        * 스터디>기타: 검색어 '프로그래밍'\n",
    "    * 안해 ㅅㅂ\n",
    "* 스터디 사이트:\n",
    "    * [스터디하자](http://lets-study.co.kr/): 프로그래밍 카테고리\n",
    "    * 완료\n",
    "* 커뮤니티:\n",
    "    * [OKKY](https://okky.kr/): \n",
    "        * 커뮤티니> 정기모임/스터디\n",
    "    * 완료\n",
    "        \n",
    "## 데이터 스키마\n",
    "* id\n",
    "* home: 크롤링한 사이트\n",
    "* title: 제목\n",
    "* content: 본문\n",
    "* hash_tags: 본문 빈출 단어 top 1-5(본문 길이에 따라 생성)"
   ]
  },
  {
   "cell_type": "code",
   "execution_count": 25,
   "metadata": {
    "ExecuteTime": {
     "end_time": "2019-06-22T07:28:57.156868Z",
     "start_time": "2019-06-22T07:28:57.146521Z"
    }
   },
   "outputs": [],
   "source": [
    "# libraries\n",
    "from selenium.webdriver.support.ui import Select\n",
    "from selenium import webdriver\n",
    "import pandas as pd\n",
    "import requests\n",
    "import json\n",
    "import time\n",
    "import bs4\n",
    "import re\n",
    "import time"
   ]
  },
  {
   "cell_type": "markdown",
   "metadata": {},
   "source": [
    "## Lets_study"
   ]
  },
  {
   "cell_type": "code",
   "execution_count": 61,
   "metadata": {
    "ExecuteTime": {
     "end_time": "2019-06-22T07:54:28.484149Z",
     "start_time": "2019-06-22T07:54:25.651844Z"
    }
   },
   "outputs": [],
   "source": [
    "driver = webdriver.Chrome('chromedriver')  # start webdriver"
   ]
  },
  {
   "cell_type": "code",
   "execution_count": 80,
   "metadata": {
    "ExecuteTime": {
     "end_time": "2019-06-22T08:07:24.591448Z",
     "start_time": "2019-06-22T08:05:41.351480Z"
    }
   },
   "outputs": [],
   "source": [
    "lets_study_dict = {\n",
    "    'id': [],\n",
    "    'title': [],\n",
    "    'content': [],\n",
    "    'date': []\n",
    "}\n",
    "for page_idx in range(1,4):\n",
    "    # 스터디 페이지 입력\n",
    "    lets_study_urls = f'http://lets-study.co.kr/studies?categoryid=4&pageno={page_idx}'\n",
    "    driver.get(lets_study_urls)\n",
    "    # 스터디 포스트 클릭\n",
    "    # 페이지내 모든 링크에 대해서\n",
    "    n_study_posts_links = len(driver.find_elements_by_css_selector('tr'))\n",
    "    for link_idx in range(n_study_posts_links):\n",
    "        study_posts_links = driver.find_elements_by_css_selector('tr') # 링크 가져오기\n",
    "        study_posts_links[link_idx].click() # 링크 클릭\n",
    "        current_url = driver.current_url  # 현재 url 가져오기\n",
    "        current_res = getRequest(current_url)  # 현재 url request\n",
    "        \n",
    "        # dict에 저장\n",
    "        lets_study_dict['id'].append(current_res.select('div.inst>.c-g')[0].text)\n",
    "        lets_study_dict['title'].append(current_res.select('title')[0].text)\n",
    "        lets_study_dict['content'].append(current_res.select('.introduce')[0].text)\n",
    "        lets_study_dict['date'].append(current_res.select('div.inst>.c-l-g')[0].text)\n",
    "\n",
    "        driver.back() # 뒤로가기"
   ]
  },
  {
   "cell_type": "code",
   "execution_count": 86,
   "metadata": {
    "ExecuteTime": {
     "end_time": "2019-06-22T08:10:08.332143Z",
     "start_time": "2019-06-22T08:10:08.252212Z"
    }
   },
   "outputs": [],
   "source": [
    "# 저장\n",
    "lets_study_df = pd.DataFrame.from_dict (lets_study_dict)\n",
    "lets_study_df.to_csv('lets_study.csv', index=False, mode='w')"
   ]
  },
  {
   "cell_type": "markdown",
   "metadata": {},
   "source": [
    "## okky"
   ]
  },
  {
   "cell_type": "code",
   "execution_count": 160,
   "metadata": {
    "ExecuteTime": {
     "end_time": "2019-06-22T09:14:35.354725Z",
     "start_time": "2019-06-22T09:14:31.716051Z"
    }
   },
   "outputs": [],
   "source": [
    "driver = webdriver.Chrome('chromedriver')  # start webdriver"
   ]
  },
  {
   "cell_type": "code",
   "execution_count": 179,
   "metadata": {
    "ExecuteTime": {
     "end_time": "2019-06-22T09:31:44.316937Z",
     "start_time": "2019-06-22T09:27:52.396196Z"
    }
   },
   "outputs": [],
   "source": [
    "okky_dict = {\n",
    "    'id': [],\n",
    "    'title': [],\n",
    "    'content': [],\n",
    "    'date': [],\n",
    "    'tags': [],\n",
    "}\n",
    "for page_idx in range(0,120,20):\n",
    "    okky_url = f'https://okky.kr/articles/gathering?offset={page_idx}&max=20&sort=id&order=desc'\n",
    "    driver.get(okky_url)\n",
    "    n_post_a_tag = len(driver.find_elements_by_css_selector('div.clearfix>h5>a'))\n",
    "\n",
    "    for post_idx in range(n_post_a_tag):\n",
    "        post_a_tag = driver.find_elements_by_css_selector('div.clearfix>h5>a')\n",
    "\n",
    "        post_a_tag[post_idx].click()\n",
    "        current_url = driver.current_url  # 현재 url 가져오기\n",
    "        current_res = getRequest(current_url)  # 현재 url request\n",
    "\n",
    "        okky_dict['id'].append(current_res.select('div.panel-heading.clearfix .nickname')[0].text) \n",
    "        okky_dict['title'].append(current_res.select('h2.panel-title')[0].text)\n",
    "        okky_dict['content'].append(current_res.select('article.content-text')[0].text)\n",
    "        okky_dict['date'].append(current_res.select('span.timeago')[0].text) \n",
    "        okky_dict['tags'].append(current_res.select('div.content-tags')[0].text)\n",
    "\n",
    "        driver.back() # 뒤로가기"
   ]
  },
  {
   "cell_type": "code",
   "execution_count": 183,
   "metadata": {
    "ExecuteTime": {
     "end_time": "2019-06-22T09:33:37.224135Z",
     "start_time": "2019-06-22T09:33:37.205846Z"
    }
   },
   "outputs": [],
   "source": [
    "# 저장\n",
    "okky_dict_df = pd.DataFrame.from_dict(okky_dict)\n",
    "okky_dict_df.to_csv('okky.csv', index=False)"
   ]
  }
 ],
 "metadata": {
  "kernelspec": {
   "display_name": "Python 3",
   "language": "python",
   "name": "python3"
  },
  "language_info": {
   "codemirror_mode": {
    "name": "ipython",
    "version": 3
   },
   "file_extension": ".py",
   "mimetype": "text/x-python",
   "name": "python",
   "nbconvert_exporter": "python",
   "pygments_lexer": "ipython3",
   "version": "3.7.0"
  },
  "toc": {
   "base_numbering": 1,
   "nav_menu": {},
   "number_sections": true,
   "sideBar": true,
   "skip_h1_title": true,
   "title_cell": "Table of Contents",
   "title_sidebar": "Contents",
   "toc_cell": true,
   "toc_position": {
    "height": "calc(100% - 180px)",
    "left": "10px",
    "top": "150px",
    "width": "186.542px"
   },
   "toc_section_display": true,
   "toc_window_display": false
  }
 },
 "nbformat": 4,
 "nbformat_minor": 2
}
